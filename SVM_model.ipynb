{
 "cells": [
  {
   "cell_type": "markdown",
   "id": "2ffbf0b0",
   "metadata": {},
   "source": [
    "### Cat and Dog Image Classification using SVM"
   ]
  },
  {
   "cell_type": "code",
   "execution_count": 1,
   "id": "02df47c1",
   "metadata": {},
   "outputs": [
    {
     "name": "stdout",
     "output_type": "stream",
     "text": [
      "Requirement already satisfied: opencv-python in c:\\users\\ayush\\anaconda3\\lib\\site-packages (4.9.0.80)\n",
      "Requirement already satisfied: numpy>=1.21.2 in c:\\users\\ayush\\anaconda3\\lib\\site-packages (from opencv-python) (1.24.3)\n"
     ]
    }
   ],
   "source": [
    "!pip install opencv-python"
   ]
  },
  {
   "cell_type": "code",
   "execution_count": 2,
   "id": "c7e6d316",
   "metadata": {},
   "outputs": [],
   "source": [
    "##Importing the necessary libraries\n",
    "import os\n",
    "import joblib\n",
    "import cv2\n",
    "import numpy as np\n",
    "from sklearn.model_selection import train_test_split\n",
    "from sklearn.svm import SVC\n",
    "from sklearn.metrics import accuracy_score\n",
    "from sklearn.preprocessing import LabelEncoder\n",
    "from skimage.feature import hog"
   ]
  },
  {
   "cell_type": "code",
   "execution_count": 3,
   "id": "2a291a32",
   "metadata": {},
   "outputs": [],
   "source": [
    "##Load the dataset\n",
    "train_data = r\"train\"\n",
    "test_data = r\"C:\\\\Users\\\\Ayush\\\\Desktop\\\\Prodigy Tasks\\\\Task-3\\\\test1\\\\test1\""
   ]
  },
  {
   "cell_type": "code",
   "execution_count": 4,
   "id": "a93d2aa2",
   "metadata": {},
   "outputs": [],
   "source": [
    "def preprocessing(data_path,is_train=True):\n",
    "    data=[]\n",
    "    labels=[]\n",
    "    \n",
    "    for file in os.listdir(data_path):\n",
    "        if is_train:\n",
    "            label=file.split(\".\")[0]\n",
    "            #this line is extracting the label from the name of the file/image in this case \n",
    "        else:\n",
    "            label=None\n",
    "            #for test data labels are not available\n",
    "            \n",
    "        img_path = os.path.join(data_path,file)\n",
    "        img=cv2.imread(img_path)\n",
    "        img=cv2.resize(img,(64,64)) #size can be changed as per need\n",
    "        #,here 64 ,64 has been selected for now as this size is generally uses less time \n",
    "        \n",
    "        \n",
    "        #converting the image to greyscale to use the HOG feature \n",
    "        grey_img=cv2.cvtColor(img,cv2.COLOR_BGR2GRAY)\n",
    "        \n",
    "        #computing HOG features \n",
    "        \n",
    "        features,_=hog(grey_img,orientations=8,pixels_per_cell=(8,8),cells_per_block=(1,1),block_norm=\"L2-Hys\",visualize=True)\n",
    "        data.append(features)\n",
    "        labels.append(label)\n",
    "        \n",
    "    return np.array(data),np.array(labels)"
   ]
  },
  {
   "cell_type": "code",
   "execution_count": 5,
   "id": "19f60b4e",
   "metadata": {},
   "outputs": [],
   "source": [
    "##Train set\n",
    "X_train,y_train =preprocessing(train_data)"
   ]
  },
  {
   "cell_type": "code",
   "execution_count": 6,
   "id": "369c08fe",
   "metadata": {},
   "outputs": [],
   "source": [
    "#Applying label encoder\n",
    "label_encoder = LabelEncoder()\n",
    "y_train_new = label_encoder.fit_transform(y_train) "
   ]
  },
  {
   "cell_type": "code",
   "execution_count": 7,
   "id": "28400822",
   "metadata": {},
   "outputs": [],
   "source": [
    "##Applying train test split\n",
    "X_train_split , X_val_split ,y_train_split,y_val_split = train_test_split(X_train,y_train_new , test_size =0.2,random_state=42)"
   ]
  },
  {
   "cell_type": "code",
   "execution_count": 8,
   "id": "734d819c",
   "metadata": {},
   "outputs": [
    {
     "data": {
      "text/html": [
       "<style>#sk-container-id-1 {color: black;}#sk-container-id-1 pre{padding: 0;}#sk-container-id-1 div.sk-toggleable {background-color: white;}#sk-container-id-1 label.sk-toggleable__label {cursor: pointer;display: block;width: 100%;margin-bottom: 0;padding: 0.3em;box-sizing: border-box;text-align: center;}#sk-container-id-1 label.sk-toggleable__label-arrow:before {content: \"▸\";float: left;margin-right: 0.25em;color: #696969;}#sk-container-id-1 label.sk-toggleable__label-arrow:hover:before {color: black;}#sk-container-id-1 div.sk-estimator:hover label.sk-toggleable__label-arrow:before {color: black;}#sk-container-id-1 div.sk-toggleable__content {max-height: 0;max-width: 0;overflow: hidden;text-align: left;background-color: #f0f8ff;}#sk-container-id-1 div.sk-toggleable__content pre {margin: 0.2em;color: black;border-radius: 0.25em;background-color: #f0f8ff;}#sk-container-id-1 input.sk-toggleable__control:checked~div.sk-toggleable__content {max-height: 200px;max-width: 100%;overflow: auto;}#sk-container-id-1 input.sk-toggleable__control:checked~label.sk-toggleable__label-arrow:before {content: \"▾\";}#sk-container-id-1 div.sk-estimator input.sk-toggleable__control:checked~label.sk-toggleable__label {background-color: #d4ebff;}#sk-container-id-1 div.sk-label input.sk-toggleable__control:checked~label.sk-toggleable__label {background-color: #d4ebff;}#sk-container-id-1 input.sk-hidden--visually {border: 0;clip: rect(1px 1px 1px 1px);clip: rect(1px, 1px, 1px, 1px);height: 1px;margin: -1px;overflow: hidden;padding: 0;position: absolute;width: 1px;}#sk-container-id-1 div.sk-estimator {font-family: monospace;background-color: #f0f8ff;border: 1px dotted black;border-radius: 0.25em;box-sizing: border-box;margin-bottom: 0.5em;}#sk-container-id-1 div.sk-estimator:hover {background-color: #d4ebff;}#sk-container-id-1 div.sk-parallel-item::after {content: \"\";width: 100%;border-bottom: 1px solid gray;flex-grow: 1;}#sk-container-id-1 div.sk-label:hover label.sk-toggleable__label {background-color: #d4ebff;}#sk-container-id-1 div.sk-serial::before {content: \"\";position: absolute;border-left: 1px solid gray;box-sizing: border-box;top: 0;bottom: 0;left: 50%;z-index: 0;}#sk-container-id-1 div.sk-serial {display: flex;flex-direction: column;align-items: center;background-color: white;padding-right: 0.2em;padding-left: 0.2em;position: relative;}#sk-container-id-1 div.sk-item {position: relative;z-index: 1;}#sk-container-id-1 div.sk-parallel {display: flex;align-items: stretch;justify-content: center;background-color: white;position: relative;}#sk-container-id-1 div.sk-item::before, #sk-container-id-1 div.sk-parallel-item::before {content: \"\";position: absolute;border-left: 1px solid gray;box-sizing: border-box;top: 0;bottom: 0;left: 50%;z-index: -1;}#sk-container-id-1 div.sk-parallel-item {display: flex;flex-direction: column;z-index: 1;position: relative;background-color: white;}#sk-container-id-1 div.sk-parallel-item:first-child::after {align-self: flex-end;width: 50%;}#sk-container-id-1 div.sk-parallel-item:last-child::after {align-self: flex-start;width: 50%;}#sk-container-id-1 div.sk-parallel-item:only-child::after {width: 0;}#sk-container-id-1 div.sk-dashed-wrapped {border: 1px dashed gray;margin: 0 0.4em 0.5em 0.4em;box-sizing: border-box;padding-bottom: 0.4em;background-color: white;}#sk-container-id-1 div.sk-label label {font-family: monospace;font-weight: bold;display: inline-block;line-height: 1.2em;}#sk-container-id-1 div.sk-label-container {text-align: center;}#sk-container-id-1 div.sk-container {/* jupyter's `normalize.less` sets `[hidden] { display: none; }` but bootstrap.min.css set `[hidden] { display: none !important; }` so we also need the `!important` here to be able to override the default hidden behavior on the sphinx rendered scikit-learn.org. See: https://github.com/scikit-learn/scikit-learn/issues/21755 */display: inline-block !important;position: relative;}#sk-container-id-1 div.sk-text-repr-fallback {display: none;}</style><div id=\"sk-container-id-1\" class=\"sk-top-container\"><div class=\"sk-text-repr-fallback\"><pre>SVC(kernel=&#x27;linear&#x27;)</pre><b>In a Jupyter environment, please rerun this cell to show the HTML representation or trust the notebook. <br />On GitHub, the HTML representation is unable to render, please try loading this page with nbviewer.org.</b></div><div class=\"sk-container\" hidden><div class=\"sk-item\"><div class=\"sk-estimator sk-toggleable\"><input class=\"sk-toggleable__control sk-hidden--visually\" id=\"sk-estimator-id-1\" type=\"checkbox\" checked><label for=\"sk-estimator-id-1\" class=\"sk-toggleable__label sk-toggleable__label-arrow\">SVC</label><div class=\"sk-toggleable__content\"><pre>SVC(kernel=&#x27;linear&#x27;)</pre></div></div></div></div></div>"
      ],
      "text/plain": [
       "SVC(kernel='linear')"
      ]
     },
     "execution_count": 8,
     "metadata": {},
     "output_type": "execute_result"
    }
   ],
   "source": [
    "#training the SVM model\n",
    "svm_classifier=SVC(kernel=\"linear\")\n",
    "svm_classifier.fit(X_train_split,y_train_split)"
   ]
  },
  {
   "cell_type": "code",
   "execution_count": 9,
   "id": "8df085a0",
   "metadata": {},
   "outputs": [
    {
     "name": "stdout",
     "output_type": "stream",
     "text": [
      "Validation Accuracy: 68.34\n"
     ]
    }
   ],
   "source": [
    "#evaluation on the validation set\n",
    "y_val_pred = svm_classifier.predict(X_val_split)\n",
    "accuracy = accuracy_score(y_val_split,y_val_pred)\n",
    "print(\"Validation Accuracy:\",accuracy*100)\n",
    "#accuracy obtained is very low , can be boosted by changing the approach from SVM to CNN "
   ]
  },
  {
   "cell_type": "code",
   "execution_count": 10,
   "id": "8870d01b",
   "metadata": {},
   "outputs": [
    {
     "data": {
      "text/plain": [
       "['svm_model.pkl']"
      ]
     },
     "execution_count": 10,
     "metadata": {},
     "output_type": "execute_result"
    }
   ],
   "source": [
    "#saving the trained model for future use \n",
    "joblib.dump(svm_classifier,\"svm_model.pkl\")"
   ]
  },
  {
   "cell_type": "code",
   "execution_count": 11,
   "id": "c5507750",
   "metadata": {},
   "outputs": [],
   "source": [
    "#loading the process test data\n",
    "X_test,_ =preprocessing(test_data,is_train=False)\n",
    "#makeing prediction \n",
    "y_test_pred = svm_classifier.predict(X_test)\n",
    "\n",
    "#converting numerical values back to labels \n",
    "y_test_pred_original = label_encoder.inverse_transform(y_test_pred)"
   ]
  },
  {
   "cell_type": "code",
   "execution_count": 17,
   "id": "c52b7ca6",
   "metadata": {},
   "outputs": [],
   "source": [
    "import joblib\n",
    "\n",
    "# Load SVM model using joblib\n",
    "svm_model = joblib.load('svm_model.pkl')"
   ]
  },
  {
   "cell_type": "code",
   "execution_count": 19,
   "id": "2e78c232",
   "metadata": {},
   "outputs": [
    {
     "name": "stdout",
     "output_type": "stream",
     "text": [
      "Enter the path to the image you want to classify: test1\\test1\\5.jpg\n"
     ]
    },
    {
     "data": {
      "image/png": "[encoded data removed]",
      "text/plain": [
       "<Figure size 640x480 with 1 Axes>"
      ]
     },
     "metadata": {},
     "output_type": "display_data"
    },
    {
     "name": "stdout",
     "output_type": "stream",
     "text": [
      "Predicted label: cat\n"
     ]
    }
   ],
   "source": [
    "import matplotlib.pyplot as plt\n",
    "def predict_image(img_path, model, label_encoder):\n",
    "    img = cv2.imread(img_path)\n",
    "    if img is None:\n",
    "        print(\"Error loading image:\", img_path)\n",
    "        return None#dealing with errors if any after checking the path if file exsits or not \n",
    "    \n",
    "    img = cv2.resize(img, (64, 64))\n",
    "    grey_img = cv2.cvtColor(img, cv2.COLOR_BGR2GRAY)\n",
    "    features, _ = hog(grey_img, orientations=8, pixels_per_cell=(8, 8), cells_per_block=(1, 1), block_norm=\"L2-Hys\", visualize=True)\n",
    "    features = np.array([features])\n",
    "    prediction = model.predict(features)\n",
    "    predicted_label = label_encoder.inverse_transform(prediction)[0]\n",
    "    \n",
    "    # Displaying the image\n",
    "    plt.imshow(cv2.cvtColor(img, cv2.COLOR_BGR2RGB))\n",
    "    plt.axis(\"off\")\n",
    "    plt.title(f\"Predicted: {predicted_label}\")\n",
    "    plt.show()\n",
    "    \n",
    "    return predicted_label\n",
    "\n",
    "# Geting user input for image path\n",
    "user_img_path = input(\"Enter the path to the image you want to classify: \")\n",
    "\n",
    "# Predicting the class of the user input image\n",
    "predicted_label = predict_image(user_img_path, svm_model, label_encoder)\n",
    "if predicted_label is not None:\n",
    "    print(\"Predicted label:\", predicted_label)"
   ]
  },
  {
   "cell_type": "code",
   "execution_count": null,
   "id": "1e31782c",
   "metadata": {},
   "outputs": [],
   "source": []
  }
 ],
 "metadata": {
  "kernelspec": {
   "display_name": "Python 3 (ipykernel)",
   "language": "python",
   "name": "python3"
  },
  "language_info": {
   "codemirror_mode": {
    "name": "ipython",
    "version": 3
   },
   "file_extension": ".py",
   "mimetype": "text/x-python",
   "name": "python",
   "nbconvert_exporter": "python",
   "pygments_lexer": "ipython3",
   "version": "3.11.5"
  }
 },
 "nbformat": 4,
 "nbformat_minor": 5
}
